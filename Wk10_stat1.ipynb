{
 "cells": [
  {
   "cell_type": "markdown",
   "id": "8fb04ed4-433f-4bf3-b6b1-8e7e53aa8f44",
   "metadata": {},
   "source": [
    "Q1. What is Statistics?"
   ]
  },
  {
   "cell_type": "code",
   "execution_count": 1,
   "id": "3a7b06c5-94bb-47b5-b890-2cce6a37ffc1",
   "metadata": {},
   "outputs": [],
   "source": [
    "## Statistics is a highly interdisciplinary field that involves developing and studying methods for collecting, analyzing, interpreting, and presenting empirical data"
   ]
  },
  {
   "cell_type": "markdown",
   "id": "0f10428a-c3af-44fc-9657-dbfaca60ea46",
   "metadata": {},
   "source": [
    "Q2. Define the different types of statistics and give an example of when each type might be used."
   ]
  },
  {
   "cell_type": "code",
   "execution_count": 2,
   "id": "c3ae0493-40c4-4383-a455-3c23c3e71471",
   "metadata": {},
   "outputs": [],
   "source": [
    "## There are two types of statistics---\n",
    "## (1) Descriptive statistics: It consists of organizing and summarizing data.\n",
    "## (2) Inferential statistics: It consists of using data you have measured to form conclusion.\n",
    "## "
   ]
  },
  {
   "cell_type": "markdown",
   "id": "8c0c3d31-03b1-4845-b472-3f2318f7ab65",
   "metadata": {},
   "source": [
    "Q3. What are the different types of data and how do they differ from each other? Provide an example of\n",
    "each type of data."
   ]
  },
  {
   "cell_type": "code",
   "execution_count": 1,
   "id": "fbd71e31-e5e9-45ca-bc01-68dfd71680b9",
   "metadata": {},
   "outputs": [],
   "source": [
    "## There are main two types of data :---(1) Quantitative , (2) Qualitative \n",
    "## There is further division in main data types\n",
    "## Quantative :- Discreate , Continous \n",
    "## Qualitative :- Nominal , Ordinal \n",
    "\n",
    "## Discreate: It is a type of data in statistics that only used discreate value or a single value. for example- 1) Height of student in the class\n",
    "## Continous: It is a type of data in statistics that used a range of data. This data set have any value between the range of data set.for example-1) temperature range\n",
    "## Nominal: It is type of data which consists of categories or name that can not be ranked and ordered. for example- 1) Blood group\n",
    "## Ordinal: It is a type of data which consists of categories which can be ranked or ordered. for example- Grade\n"
   ]
  },
  {
   "cell_type": "markdown",
   "id": "5685f9b4-c9e7-4f41-9514-c581cd2fa4ac",
   "metadata": {},
   "source": [
    "Q4. Categorise the following datasets with respect to quantitative and qualitative data types:\n",
    "\n",
    "\n",
    "(i) Grading in exam: A+, A, B+, B, C+, C, D, E\n",
    "\n",
    "\n",
    "(ii) Colour of mangoes: yellow, green, orange, red\n",
    "\n",
    "\n",
    "(iii) Height data of a class: [178.9, 179, 179.5, 176, 177.2, 178.3, 175.8,...]\n",
    "\n",
    "\n",
    "(iv) Number of mangoes exported by a farm: [500, 600, 478, 672, ...]"
   ]
  },
  {
   "cell_type": "code",
   "execution_count": 2,
   "id": "cf34b024-634c-4c48-83bc-433ed052a368",
   "metadata": {},
   "outputs": [],
   "source": [
    "## (i) Qualitative data --> Ordinal\n",
    "## (ii) Qualitative data --> Nominal\n",
    "## (iii) Quantative data --> Discreate\n",
    "##(iv) Quantative data --> Discreate"
   ]
  },
  {
   "cell_type": "markdown",
   "id": "32035dd0-da6a-4ec1-9032-848ee61e2713",
   "metadata": {},
   "source": [
    "Q5. Explain the concept of levels of measurement and give an example of a variable for each level."
   ]
  },
  {
   "cell_type": "code",
   "execution_count": 3,
   "id": "95365e13-5589-4398-a027-58c7f9a123f5",
   "metadata": {},
   "outputs": [],
   "source": [
    "## In statistics , level of measurement is a classification to related values that are assigned to variables with each other.\n",
    "## There are four level of measurement :-- Nominal , Ordinal , Interval , Ratio \n",
    "## Examples:--\n",
    "## Nominal--> Eye color (e.g. blue, brown, green)\n",
    "## Ordinal--> Academic grades (A, B, C, and so on)\n",
    "## Interval--> IQ score\n",
    "## Ratio--> Age in years (continuous)"
   ]
  },
  {
   "cell_type": "markdown",
   "id": "82ec6c6c-dbf1-49b0-a5b3-c0e6be07d10d",
   "metadata": {},
   "source": [
    "Q6. Why is it important to understand the level of measurement when analyzing data? Provide an\n",
    "example to illustrate your answer."
   ]
  },
  {
   "cell_type": "code",
   "execution_count": 6,
   "id": "6c56e16b-1d64-4295-bec9-baaf726cbdcd",
   "metadata": {},
   "outputs": [],
   "source": [
    "## For example, if you wanted to analyze the spending habits of people living in Tokyo,\n",
    "##              you might send out a survey to 500 people asking questions about their income, their exact location, their age, \n",
    "##              and how much they spend on various products and services.These are your variables: data that can be measured and recorded, and whose values will differ from one individual to the next.\n",
    "##              "
   ]
  },
  {
   "cell_type": "markdown",
   "id": "d8fb4ee0-a7ce-4df5-95c5-ca997d9759e9",
   "metadata": {},
   "source": [
    "Q7. How nominal data type is different from ordinal data type."
   ]
  },
  {
   "cell_type": "code",
   "execution_count": 7,
   "id": "33fa684c-a979-40dc-a78f-c6446ed0d948",
   "metadata": {},
   "outputs": [],
   "source": [
    "## In Case of Nominal data type we classified variable in categories or Qualitative , order does not matter in Nominal.\n",
    "## While in case of Ordinal data type order matter and ranking is also important in Ordinal data ."
   ]
  },
  {
   "cell_type": "markdown",
   "id": "3936c383-f7c4-45ee-a3c9-9aa80b0fb6fc",
   "metadata": {},
   "source": [
    "Q8. Which type of plot can be used to display data in terms of range?"
   ]
  },
  {
   "cell_type": "code",
   "execution_count": 8,
   "id": "33b958b6-b8cd-4200-9173-2f1e1914ac52",
   "metadata": {},
   "outputs": [],
   "source": [
    "## Histogram"
   ]
  },
  {
   "cell_type": "markdown",
   "id": "3d918d78-9188-4383-829a-c39712712635",
   "metadata": {},
   "source": [
    "Q9. Describe the difference between descriptive and inferential statistics. Give an example of each\n",
    "type of statistics and explain how they are used."
   ]
  },
  {
   "cell_type": "code",
   "execution_count": 9,
   "id": "b914c743-b91e-4314-b5c8-c280d148620f",
   "metadata": {},
   "outputs": [],
   "source": [
    "## Descriptive statistics: It consists of organizing and summarizing data. Example:- Height of student in the class\n",
    "## Inferential statistics: It consists of using data you have measured to form conclusion. Example:- Blood group\n",
    "\n",
    "## Descriptive Statistics describes the characteristics of a data set. It is a simple technique to describe, show and summarize data in a meaningful way.\n",
    "## Inferential Statistics helps to draw conclusions and make predictions based on a data set. It is done using several techniques, methods, and types of calculations"
   ]
  },
  {
   "cell_type": "markdown",
   "id": "f32c9242-2a93-4d6b-9583-b221d5a3cbbe",
   "metadata": {},
   "source": [
    "Q10. What are some common measures of central tendency and variability used in statistics? Explain\n",
    "how each measure can be used to describe a dataset."
   ]
  },
  {
   "cell_type": "code",
   "execution_count": 10,
   "id": "3c02ffc7-e862-4753-bf73-5eef3071236c",
   "metadata": {},
   "outputs": [],
   "source": [
    "## Some common measure of Central tendency are --- Mean , Mode , Median \n",
    "## Mean: Mean refers to the average or most common value in a data set\n",
    "## Mode: mode is the most frequent value\n",
    "## Median: median is the middle score for the data set in increasing order"
   ]
  },
  {
   "cell_type": "code",
   "execution_count": null,
   "id": "1003682c-2a5d-48f7-9ba6-d4a43fc3a1ce",
   "metadata": {},
   "outputs": [],
   "source": []
  }
 ],
 "metadata": {
  "kernelspec": {
   "display_name": "Python 3 (ipykernel)",
   "language": "python",
   "name": "python3"
  },
  "language_info": {
   "codemirror_mode": {
    "name": "ipython",
    "version": 3
   },
   "file_extension": ".py",
   "mimetype": "text/x-python",
   "name": "python",
   "nbconvert_exporter": "python",
   "pygments_lexer": "ipython3",
   "version": "3.10.8"
  }
 },
 "nbformat": 4,
 "nbformat_minor": 5
}
